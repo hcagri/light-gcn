{
 "cells": [
  {
   "cell_type": "code",
   "execution_count": 27,
   "metadata": {},
   "outputs": [],
   "source": [
    "import pandas as pd \n",
    "import numpy as np \n",
    "import random\n",
    "from sklearn.preprocessing import LabelEncoder\n",
    "from sklearn.model_selection import train_test_split\n",
    "\n",
    "import torch \n",
    "import torch.nn as nn\n",
    "from torch_geometric.nn import MessagePassing\n",
    "import torch_geometric as pyg\n",
    "from torch_geometric.utils.negative_sampling import structured_negative_sampling\n",
    "from torch_geometric.transforms import gcn_norm"
   ]
  },
  {
   "cell_type": "code",
   "execution_count": 2,
   "metadata": {},
   "outputs": [
    {
     "data": {
      "text/html": [
       "<div>\n",
       "<style scoped>\n",
       "    .dataframe tbody tr th:only-of-type {\n",
       "        vertical-align: middle;\n",
       "    }\n",
       "\n",
       "    .dataframe tbody tr th {\n",
       "        vertical-align: top;\n",
       "    }\n",
       "\n",
       "    .dataframe thead th {\n",
       "        text-align: right;\n",
       "    }\n",
       "</style>\n",
       "<table border=\"1\" class=\"dataframe\">\n",
       "  <thead>\n",
       "    <tr style=\"text-align: right;\">\n",
       "      <th></th>\n",
       "      <th>userId</th>\n",
       "      <th>movieId</th>\n",
       "      <th>rating</th>\n",
       "      <th>timestamp</th>\n",
       "    </tr>\n",
       "  </thead>\n",
       "  <tbody>\n",
       "    <tr>\n",
       "      <th>0</th>\n",
       "      <td>1</td>\n",
       "      <td>1</td>\n",
       "      <td>4.0</td>\n",
       "      <td>964982703</td>\n",
       "    </tr>\n",
       "    <tr>\n",
       "      <th>1</th>\n",
       "      <td>1</td>\n",
       "      <td>3</td>\n",
       "      <td>4.0</td>\n",
       "      <td>964981247</td>\n",
       "    </tr>\n",
       "    <tr>\n",
       "      <th>2</th>\n",
       "      <td>1</td>\n",
       "      <td>6</td>\n",
       "      <td>4.0</td>\n",
       "      <td>964982224</td>\n",
       "    </tr>\n",
       "    <tr>\n",
       "      <th>3</th>\n",
       "      <td>1</td>\n",
       "      <td>47</td>\n",
       "      <td>5.0</td>\n",
       "      <td>964983815</td>\n",
       "    </tr>\n",
       "    <tr>\n",
       "      <th>4</th>\n",
       "      <td>1</td>\n",
       "      <td>50</td>\n",
       "      <td>5.0</td>\n",
       "      <td>964982931</td>\n",
       "    </tr>\n",
       "  </tbody>\n",
       "</table>\n",
       "</div>"
      ],
      "text/plain": [
       "   userId  movieId  rating  timestamp\n",
       "0       1        1     4.0  964982703\n",
       "1       1        3     4.0  964981247\n",
       "2       1        6     4.0  964982224\n",
       "3       1       47     5.0  964983815\n",
       "4       1       50     5.0  964982931"
      ]
     },
     "execution_count": 2,
     "metadata": {},
     "output_type": "execute_result"
    }
   ],
   "source": [
    "ratings = pd.read_csv('ml-latest-small/ratings.csv')\n",
    "ratings.head(5)"
   ]
  },
  {
   "cell_type": "code",
   "execution_count": 3,
   "metadata": {},
   "outputs": [
    {
     "name": "stdout",
     "output_type": "stream",
     "text": [
      "Unique User  IDs:  610\n",
      "Unique Movie IDs:  9724\n",
      "Max User ID:  610\n",
      "Max Movie ID:  193609\n"
     ]
    }
   ],
   "source": [
    "print(\"Unique User  IDs: \", ratings['userId'].nunique())\n",
    "print(\"Unique Movie IDs: \", ratings['movieId'].nunique())\n",
    "print(\"Max User ID: \", ratings['userId'].max())\n",
    "print(\"Max Movie ID: \", ratings['movieId'].max())"
   ]
  },
  {
   "cell_type": "code",
   "execution_count": 4,
   "metadata": {},
   "outputs": [],
   "source": [
    "user_encoder = LabelEncoder()\n",
    "movie_encoder = LabelEncoder()\n",
    "\n",
    "ratings['userId']  = user_encoder.fit_transform(ratings['userId'])\n",
    "ratings['movieId'] = movie_encoder.fit_transform(ratings['movieId'])"
   ]
  },
  {
   "cell_type": "code",
   "execution_count": 5,
   "metadata": {},
   "outputs": [
    {
     "name": "stdout",
     "output_type": "stream",
     "text": [
      "Unique User  IDs:  610\n",
      "Unique Movie IDs:  9724\n",
      "Max User ID:  609\n",
      "Max Movie ID:  9723\n"
     ]
    }
   ],
   "source": [
    "print(\"Unique User  IDs: \", ratings['userId'].nunique())\n",
    "print(\"Unique Movie IDs: \", ratings['movieId'].nunique())\n",
    "print(\"Max User ID: \", ratings['userId'].max())\n",
    "print(\"Max Movie ID: \", ratings['movieId'].max())\n",
    "\n",
    "num_users  = ratings['userId'].nunique()\n",
    "num_movies = ratings['movieId'].nunique()"
   ]
  },
  {
   "cell_type": "code",
   "execution_count": 6,
   "metadata": {},
   "outputs": [],
   "source": [
    "def create_interaction_edges(userids, movieids, ratings_, threshold=3.5):\n",
    "    ''' Interaction edges in COO format.'''\n",
    "    mask = ratings_ > threshold\n",
    "    edges = np.stack([userids[mask], movieids[mask]])\n",
    "    return torch.LongTensor(edges)\n"
   ]
  },
  {
   "cell_type": "code",
   "execution_count": 7,
   "metadata": {},
   "outputs": [],
   "source": [
    "def create_adj_matrix(int_edges, num_users, num_movies):\n",
    "\n",
    "    n = num_users + num_movies\n",
    "    adj = torch.zeros(n,n)\n",
    "\n",
    "    r_mat = torch.sparse_coo_tensor(int_edges, torch.ones(int_edges.shape[1]), size=(num_users, num_movies)).to_dense()\n",
    "    adj[:num_users, num_users:] = r_mat.clone()\n",
    "    adj[num_users:, :num_users] = r_mat.T.clone()\n",
    "\n",
    "    adj_coo = adj.to_sparse_coo()\n",
    "    adj_coo = adj_coo.indices()\n",
    "\n",
    "    return adj_coo"
   ]
  },
  {
   "cell_type": "code",
   "execution_count": null,
   "metadata": {},
   "outputs": [],
   "source": [
    "def  adj_to_r_mat(adj, num_users, num_movies):\n",
    "    adj_dense = torch.sparse_coo_tensor(adj, torch.ones(adj.shape[1]), size=(num_users, num_movies)).to_dense()\n",
    "    r_mat = adj_dense[:num_users, num_users:]\n",
    "    r_coo = r_mat.to_sparse_coo()\n",
    "    return r_coo.indices()"
   ]
  },
  {
   "cell_type": "code",
   "execution_count": 8,
   "metadata": {},
   "outputs": [],
   "source": [
    "int_edges = create_interaction_edges(ratings['userId'], ratings['movieId'], ratings['rating'])"
   ]
  },
  {
   "cell_type": "code",
   "execution_count": 9,
   "metadata": {},
   "outputs": [
    {
     "data": {
      "text/plain": [
       "torch.Size([2, 48580])"
      ]
     },
     "execution_count": 9,
     "metadata": {},
     "output_type": "execute_result"
    }
   ],
   "source": [
    "int_edges.shape "
   ]
  },
  {
   "cell_type": "code",
   "execution_count": 10,
   "metadata": {},
   "outputs": [
    {
     "name": "stdout",
     "output_type": "stream",
     "text": [
      "Train edges:  torch.Size([2, 38864])\n",
      "Val   edges:  torch.Size([2, 4858])\n",
      "Test  edges:  torch.Size([2, 4858])\n"
     ]
    }
   ],
   "source": [
    "indices = torch.arange(0, int_edges.shape[1], dtype=torch.long)\n",
    "\n",
    "train_idx, test_idx = train_test_split(indices, test_size=0.2)\n",
    "val_idx, test_idx   = train_test_split(test_idx, test_size=0.5)\n",
    "\n",
    "train_edges = int_edges[:, train_idx]\n",
    "val_edges   = int_edges[:, val_idx]\n",
    "test_edges  = int_edges[:, test_idx]\n",
    "\n",
    "print(\"Train edges: \", train_edges.shape)\n",
    "print(\"Val   edges: \", val_edges.shape)\n",
    "print(\"Test  edges: \", test_edges.shape)"
   ]
  },
  {
   "cell_type": "code",
   "execution_count": 11,
   "metadata": {},
   "outputs": [],
   "source": [
    "train_adj = create_adj_matrix(train_edges, num_users, num_movies)\n",
    "val_adj   = create_adj_matrix(val_edges, num_users, num_movies)\n",
    "test_adj  = create_adj_matrix(test_edges, num_users, num_movies)\n"
   ]
  },
  {
   "cell_type": "code",
   "execution_count": 20,
   "metadata": {},
   "outputs": [],
   "source": [
    "## edges = (i, j, k) (i, j) positive edge (i, k) negative edge\n",
    "def sample_mini_batch(edge_index, batch_size):\n",
    "\n",
    "    '''\n",
    "    Args:\n",
    "        edge_index: edge_index of the user-item interaction matrix\n",
    "    \n",
    "    Return:\n",
    "        structured_negative_sampling return (i,j,k) where\n",
    "            (i,j) positive edge\n",
    "            (i,k) negative edge\n",
    "    '''\n",
    "    edges = structured_negative_sampling(edge_index)\n",
    "    edges = torch.stack(edges, dim=0)\n",
    "    random_idx = random.choices(list(range(edges[0].shape[0])), k=batch_size)\n",
    "    batch = edges[:, random_idx]\n",
    "    user_ids, pos_items, neg_items = batch[0], batch[1], batch[2]\n",
    "    return user_ids, pos_items, neg_items\n"
   ]
  },
  {
   "cell_type": "code",
   "execution_count": null,
   "metadata": {},
   "outputs": [],
   "source": [
    "class LightGCNConv(MessagePassing):\n",
    "    ''' How message passing base class works?\n",
    "        https://zqfang.github.io/2021-08-07-graph-pyg/#messagepassing-in-pytorch-geometric \n",
    "        j : Source index\n",
    "        i : Target index\n",
    "    '''\n",
    "    def __init__(self):\n",
    "        super().__init__(aggr='add')\n",
    "\n",
    "    def forward(self, x, edge_index):\n",
    "        norm = gcn_norm(edge_index)\n",
    "        out = self.propagate(edge_index, x=x, norm=norm)\n",
    "        return out\n",
    "\n",
    "    def message(self, x_j, norm):\n",
    "        return norm.view(-1, 1) * x_j\n",
    "    \n",
    "\n",
    "class LightGCN(torch.nn.Module):\n",
    "    def __init__(self, num_users, num_items, emb_dim = 64, num_layers=4):\n",
    "        super().__init__()\n",
    "        \n",
    "        self.userEmb = nn.Embedding(num_users, emb_dim)\n",
    "        self.itemEmb = nn.Embedding(num_items, emb_dim)\n",
    "\n",
    "        self.num_layers = num_layers\n",
    "\n",
    "        self.convs = nn.ModuleList()\n",
    "        for i in range(self.num_layers):\n",
    "            self.convs.append(LightGCNConv())\n",
    "\n",
    "    def forward(self, edge_index):\n",
    "        emb = torch.cat([self.userEmb, self.itemEmb], dim=0) \n",
    "        emb_lst = [emb]\n",
    "\n",
    "        for lightgcn in self.convs:\n",
    "            emb = lightgcn(emb, edge_index)\n",
    "            emb_lst.append(emb_lst)\n",
    "        \n",
    "        out_emb = torch.stack(emb_lst, dim=1)   \n",
    "        out_emb = torch.mean(out_emb, dim=1)\n",
    "\n",
    "        # Split user and item embeddings\n",
    "        users_emb_final, items_emb_final = torch.split(out_emb, [self.num_users, self.num_items]) \n",
    "\n",
    "        return users_emb_final, self.userEmb.weight, items_emb_final, self.itemEmb.weight"
   ]
  },
  {
   "cell_type": "code",
   "execution_count": null,
   "metadata": {},
   "outputs": [],
   "source": [
    "def bpr_loss(user_emb, user_emb_0, item_emb, item_emb_0, edge_index_r, batch_size = 128, lambda_= 1e-4):\n",
    "\n",
    "    user_ids, pos_items, neg_items = sample_mini_batch(edge_index_r, batch_size=batch_size)\n",
    "\n",
    "    user_emb_sub = user_emb[user_ids]\n",
    "    pos_item_emb = item_emb[pos_items]\n",
    "    neg_item_emb = item_emb[neg_items]\n",
    "\n",
    "    pos_scores = torch.diag(user_emb_sub @ pos_item_emb.T)\n",
    "    neg_scores = torch.diag(user_emb_sub @ neg_item_emb.T)\n",
    "\n",
    "    reg_loss = lambda_*(\n",
    "        user_emb_0[user_ids].norm(2).pow(2) +\n",
    "        item_emb_0[pos_item_emb].norm(2).pow(2) +\n",
    "        item_emb_0[neg_item_emb].norm(2).pow(2) # L2 loss\n",
    "    )\n",
    "\n",
    "    loss = -torch.mean(torch.nn.functional.softplus(pos_scores - neg_scores)) + reg_loss\n",
    "    return loss\n",
    "    "
   ]
  }
 ],
 "metadata": {
  "kernelspec": {
   "display_name": "py310",
   "language": "python",
   "name": "python3"
  },
  "language_info": {
   "codemirror_mode": {
    "name": "ipython",
    "version": 3
   },
   "file_extension": ".py",
   "mimetype": "text/x-python",
   "name": "python",
   "nbconvert_exporter": "python",
   "pygments_lexer": "ipython3",
   "version": "3.10.9"
  },
  "orig_nbformat": 4,
  "vscode": {
   "interpreter": {
    "hash": "7af69d84c46e0da4f71f361435e72c01e713b5d1fcbc89c051c042527a934273"
   }
  }
 },
 "nbformat": 4,
 "nbformat_minor": 2
}
